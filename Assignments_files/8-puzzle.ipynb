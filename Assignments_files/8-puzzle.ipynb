{
 "cells": [
  {
   "cell_type": "code",
   "execution_count": null,
   "metadata": {},
   "outputs": [],
   "source": []
  },
  {
   "cell_type": "code",
   "execution_count": 3,
   "metadata": {},
   "outputs": [],
   "source": [
    "import numpy as np\n",
    "\n",
    "Is=[[4,1,3],[0,2,6],[7,5,8]]\n",
    "fs=[[1,2,3],[4,5,6],[7,0,8]]\n",
    "\n",
    "def manhattan_distance(Is,fs,num):\n",
    "    Isarray=[]\n",
    "    fsarray=[]\n",
    "    for i in range(3):\n",
    "        for j in range(3):\n",
    "            if(Is[i][j]==num):\n",
    "                Isarray=[i,j]\n",
    "            if(fs[i][j]==num):\n",
    "                fsarray=[i,j]\n",
    "    dist=abs(Isarray[0]-fsarray[0])+abs(Isarray[1]-fsarray[1])\n",
    "    return dist\n",
    "\n",
    "def possible_ways(Is):\n",
    "    arr=[]\n",
    "    for i in range(3):\n",
    "        for j in range(3):\n",
    "            if(Is[i][j]==0):\n",
    "                arr=[i,j]\n",
    "                break\n",
    "    routes=[]\n",
    "    if((arr[0]-1)>=0):\n",
    "        routes.append([arr[0]-1,arr[1]])\n",
    "    if(arr[0]+1<3):\n",
    "        routes.append([arr[0]+1,arr[1]])\n",
    "    if(arr[1]+1<3):\n",
    "        routes.append([arr[0],arr[1]+1])\n",
    "    if(arr[1]-1>=0):\n",
    "        routes.append([arr[0],arr[1]-1])\n",
    "    return routes,arr\n",
    "\n",
    "def solve():\n",
    "    global Is\n",
    "    global fs\n",
    "    move=0\n",
    "    while(Is!=fs):\n",
    "        routes,arr=possible_ways(Is)\n",
    "        current_dist=5000\n",
    "        best_move=[]\n",
    "        for i in routes:\n",
    "            Is[i[0]][i[1]],Is[arr[0]][arr[1]]=Is[arr[0]][arr[1]],Is[i[0]][i[1]]\n",
    "            sum_dist=0\n",
    "            for j in range(3):\n",
    "                for k in range(3):\n",
    "                    if(Is[j][k]!=0):\n",
    "                        sum_dist+=manhattan_distance(Is,fs,Is[j][k])\n",
    "            if(sum_dist<current_dist):\n",
    "                current_dist=sum_dist\n",
    "                best_move=i\n",
    "            Is[i[0]][i[1]],Is[arr[0]][arr[1]]=Is[arr[0]][arr[1]],Is[i[0]][i[1]]\n",
    "        Is[best_move[0]][best_move[1]],Is[arr[0]][arr[1]]=Is[arr[0]][arr[1]],Is[best_move[0]][best_move[1]]\n",
    "        move+=1\n",
    "        print(np.array(Is))\n",
    "    print(f'moves taken: {move}')\n",
    "#     return move"
   ]
  },
  {
   "cell_type": "code",
   "execution_count": 4,
   "metadata": {},
   "outputs": [
    {
     "name": "stdout",
     "output_type": "stream",
     "text": [
      "[[0 1 3]\n",
      " [4 2 6]\n",
      " [7 5 8]]\n",
      "[[1 0 3]\n",
      " [4 2 6]\n",
      " [7 5 8]]\n",
      "[[1 2 3]\n",
      " [4 0 6]\n",
      " [7 5 8]]\n",
      "[[1 2 3]\n",
      " [4 5 6]\n",
      " [7 0 8]]\n",
      "moves taken: 4\n"
     ]
    }
   ],
   "source": [
    "solve()"
   ]
  },
  {
   "cell_type": "code",
   "execution_count": null,
   "metadata": {},
   "outputs": [],
   "source": []
  }
 ],
 "metadata": {
  "kernelspec": {
   "display_name": "Python 3",
   "language": "python",
   "name": "python3"
  },
  "language_info": {
   "codemirror_mode": {
    "name": "ipython",
    "version": 3
   },
   "file_extension": ".py",
   "mimetype": "text/x-python",
   "name": "python",
   "nbconvert_exporter": "python",
   "pygments_lexer": "ipython3",
   "version": "3.8.5"
  }
 },
 "nbformat": 4,
 "nbformat_minor": 4
}
