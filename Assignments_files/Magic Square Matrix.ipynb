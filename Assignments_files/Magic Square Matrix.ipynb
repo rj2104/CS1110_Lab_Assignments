{
 "cells": [
  {
   "cell_type": "code",
   "execution_count": null,
   "metadata": {},
   "outputs": [],
   "source": [
    "import numpy as np\n",
    "\n",
    "def magic_square_upright_down():\n",
    "    n = int(input(\"Enter the size of matrix : \"))\n",
    "    arr1 = [[0 for x in range(n)] for y in range(n)]\n",
    "    arr = np.array(arr1)\n",
    "    i = 0\n",
    "    j = n//2\n",
    "    arr[i,j] = 1\n",
    "    constant = int(n*(n**2 + 1)/2)\n",
    "    \n",
    "    for k in range(2,n*n+1):\n",
    "        i-=1\n",
    "        j+=1\n",
    "        if(j == n):\n",
    "            j = 0\n",
    "        elif(i == -1):\n",
    "            i = n-1\n",
    "        if((i==-1 and j==n) or (arr[i,j] != 0)):\n",
    "            i+=2\n",
    "            j-=1\n",
    "        arr[i,j] = k\n",
    "    print(\"Constant value : \",constant,\"\\n\")\n",
    "    print(arr)\n",
    "\n",
    "magic_square_upright_down()"
   ]
  },
  {
   "cell_type": "code",
   "execution_count": null,
   "metadata": {},
   "outputs": [],
   "source": []
  }
 ],
 "metadata": {
  "kernelspec": {
   "display_name": "Python 3",
   "language": "python",
   "name": "python3"
  },
  "language_info": {
   "codemirror_mode": {
    "name": "ipython",
    "version": 3
   },
   "file_extension": ".py",
   "mimetype": "text/x-python",
   "name": "python",
   "nbconvert_exporter": "python",
   "pygments_lexer": "ipython3",
   "version": "3.8.5"
  }
 },
 "nbformat": 4,
 "nbformat_minor": 4
}
