{
 "cells": [
  {
   "cell_type": "code",
   "execution_count": 3,
   "metadata": {},
   "outputs": [
    {
     "name": "stdout",
     "output_type": "stream",
     "text": [
      "5 3 4 6 7 8 9 1 2 \n",
      "6 7 2 1 9 5 3 4 8 \n",
      "1 9 8 3 4 2 5 6 7 \n",
      "8 5 9 7 6 1 4 2 3 \n",
      "4 2 6 8 5 3 7 9 1 \n",
      "7 1 3 9 2 4 8 5 6 \n",
      "9 6 1 5 3 7 2 8 4 \n",
      "2 8 7 4 1 9 6 3 5 \n",
      "3 4 5 2 8 6 1 7 9 \n"
     ]
    }
   ],
   "source": [
    "import numpy as np\n",
    "n = 9\n",
    "def nake_sudoku(a):\n",
    "    for i in range(n):\n",
    "        for j in range(n):\n",
    "            print(a[i][j],end = \" \")\n",
    "        print()\n",
    "def solve_sudoku(grid, r, c, nun):\n",
    "    for x in range(9):\n",
    "        if grid[r][x] == nun:\n",
    "            return False\n",
    "             \n",
    "    for x in range(9):\n",
    "        if grid[x][c] == nun:\n",
    "            return False\n",
    " \n",
    " \n",
    "    startr = r - r % 3\n",
    "    startc = c - c % 3\n",
    "    for i in range(3):\n",
    "        for j in range(3):\n",
    "            if grid[i + startr][j + startc] == nun:\n",
    "                return False\n",
    "    return True\n",
    " \n",
    "def Suduko(grid, r, c):\n",
    " \n",
    "    if (r == n - 1 and c == n):\n",
    "        return True\n",
    "    if c == n:\n",
    "        r += 1\n",
    "        c = 0\n",
    "    if grid[r][c] > 0:\n",
    "        return Suduko(grid, r, c + 1)\n",
    "    for nun in range(1, n + 1, 1): \n",
    "     \n",
    "        if solve_sudoku(grid, r, c, nun):\n",
    "         \n",
    "            grid[r][c] = nun\n",
    "            if Suduko(grid, r, c + 1):\n",
    "                return True\n",
    "        grid[r][c] = 0\n",
    "    return False\n",
    "grid = [[5,3,0,0,7,0,0,0,0],\n",
    "        [6,0,0,1,9,5,0,0,0],\n",
    "        [0,9,8,0,0,0,0,6,0],\n",
    "        [8,0,0,0,6,0,0,0,3],\n",
    "        [4,0,0,8,0,3,0,0,1],\n",
    "        [7,0,0,0,2,0,0,0,6],\n",
    "        [0,6,0,0,0,0,2,8,0],\n",
    "        [0,0,0,4,1,9,0,0,5],\n",
    "        [0,0,0,0,8,0,0,7,9]]\n",
    " \n",
    "Suduko(grid, 0, 0)\n",
    "nake_sudoku(grid)"
   ]
  },
  {
   "cell_type": "code",
   "execution_count": null,
   "metadata": {},
   "outputs": [],
   "source": []
  }
 ],
 "metadata": {
  "kernelspec": {
   "display_name": "Python 3",
   "language": "python",
   "name": "python3"
  },
  "language_info": {
   "codemirror_mode": {
    "name": "ipython",
    "version": 3
   },
   "file_extension": ".py",
   "mimetype": "text/x-python",
   "name": "python",
   "nbconvert_exporter": "python",
   "pygments_lexer": "ipython3",
   "version": "3.8.5"
  }
 },
 "nbformat": 4,
 "nbformat_minor": 4
}
